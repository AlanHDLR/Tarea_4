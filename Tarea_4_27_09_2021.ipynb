{
  "nbformat": 4,
  "nbformat_minor": 0,
  "metadata": {
    "colab": {
      "name": "Tarea_4  27/09/2021",
      "provenance": [],
      "authorship_tag": "ABX9TyP+M0DofjymsGVAGqSB4jnM",
      "include_colab_link": true
    },
    "kernelspec": {
      "name": "python3",
      "display_name": "Python 3"
    },
    "language_info": {
      "name": "python"
    }
  },
  "cells": [
    {
      "cell_type": "markdown",
      "metadata": {
        "id": "view-in-github",
        "colab_type": "text"
      },
      "source": [
        "<a href=\"https://colab.research.google.com/github/AlanHDLR/Tarea_4/blob/main/Tarea_4_27_09_2021.ipynb\" target=\"_parent\"><img src=\"https://colab.research.google.com/assets/colab-badge.svg\" alt=\"Open In Colab\"/></a>"
      ]
    },
    {
      "cell_type": "code",
      "metadata": {
        "colab": {
          "base_uri": "https://localhost:8080/"
        },
        "id": "BXaJFDMB8ugw",
        "outputId": "8170b77f-8ded-4091-c0d4-e8183d8542ec"
      },
      "source": [
        "import math\n",
        "\n",
        "print(\"Resolución de ecuaciones de segundo grado: \")\n",
        "print()\n",
        "print(\"A continuación asigna los valores de cada coeficiente: 'a, b y c'\")\n",
        "print()\n",
        "\n",
        "#Aqui van los coeficientes\n",
        "a, b, c = [float(input(f' coeficiente de {coef}: ')) for coef in ('a', 'b', 'c')]\n",
        "print()\n",
        "#Calculamos el determinante\n",
        "d = b * b - 4 * a * c\n",
        "\n",
        "if d < 0: #Comprobacion de existencia de soluciones reales\n",
        "    print(f'no existe una solución')\n",
        "\n",
        "else:\n",
        "    r = math.sqrt(d)\n",
        "    x_1 = (-b + r) / (2 * a)\n",
        "    if d !=0:\n",
        "        x_2 = (-b - r) / (2 * a)\n",
        "        print(f'Soluciones: x1 = {x_1} / x2 = {x_2}.')\n",
        "    else:\n",
        "        print(f'Unica solución: x = {x_1}')"
      ],
      "execution_count": null,
      "outputs": [
        {
          "output_type": "stream",
          "name": "stdout",
          "text": [
            "Resolución de ecuaciones de segundo grado: \n",
            "\n",
            "A continuación asigna los valores de cada coeficiente: 'a, b y c'\n",
            "\n",
            " coeficiente de a: -1\n",
            " coeficiente de b: 6\n",
            " coeficiente de c: 7\n",
            "\n",
            "Soluciones: x1 = -1.0 / x2 = 7.0.\n"
          ]
        }
      ]
    }
  ]
}